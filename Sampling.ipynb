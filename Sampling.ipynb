{
  "nbformat": 4,
  "nbformat_minor": 0,
  "metadata": {
    "colab": {
      "provenance": []
    },
    "kernelspec": {
      "name": "python3",
      "display_name": "Python 3"
    },
    "language_info": {
      "name": "python"
    }
  },
  "cells": [
    {
      "cell_type": "code",
      "execution_count": 33,
      "metadata": {
        "id": "0swavd6fhMJ6"
      },
      "outputs": [],
      "source": [
        "import pandas as pd\n",
        "import numpy as np\n",
        "from scipy.stats import skew, kurtosis, shapiro\n",
        "from statsmodels.stats.stattools import durbin_watson\n",
        "from imblearn import FunctionSampler\n",
        "from sklearn.preprocessing import StandardScaler\n",
        "from sklearn.model_selection import train_test_split\n",
        "from sklearn.ensemble import RandomForestClassifier\n",
        "from sklearn.metrics import accuracy_score, classification_report\n",
        "from scipy.stats import anderson\n",
        "import matplotlib.pyplot as plt\n",
        "import seaborn as sns\n",
        "from imblearn.over_sampling import SMOTE\n",
        "from imblearn.over_sampling import RandomOverSampler\n",
        "from sklearn.model_selection import train_test_split, StratifiedShuffleSplit, ShuffleSplit\n",
        "from sklearn.model_selection import train_test_split\n",
        "from sklearn.ensemble import RandomForestClassifier\n",
        "from sklearn.linear_model import LogisticRegression\n",
        "from sklearn.svm import SVC\n",
        "from sklearn.neighbors import KNeighborsClassifier\n",
        "from sklearn.tree import DecisionTreeClassifier\n",
        "from sklearn.metrics import accuracy_score, confusion_matrix\n",
        "from sklearn.metrics import roc_auc_score, f1_score\n",
        "from sklearn.preprocessing import label_binarize\n",
        "from sklearn.metrics import precision_score, recall_score, accuracy_score, roc_auc_score, confusion_matrix"
      ]
    },
    {
      "cell_type": "markdown",
      "source": [
        "# Import Google Drive"
      ],
      "metadata": {
        "id": "ATdsle6wk3JZ"
      }
    },
    {
      "cell_type": "code",
      "source": [
        "from google.colab import drive\n",
        "drive.mount('/content/drive')"
      ],
      "metadata": {
        "colab": {
          "base_uri": "https://localhost:8080/"
        },
        "id": "EtfoFYHHhP37",
        "outputId": "5ce406b7-ad16-433e-d6c0-1196bef57e50"
      },
      "execution_count": 34,
      "outputs": [
        {
          "output_type": "stream",
          "name": "stdout",
          "text": [
            "Drive already mounted at /content/drive; to attempt to forcibly remount, call drive.mount(\"/content/drive\", force_remount=True).\n"
          ]
        }
      ]
    },
    {
      "cell_type": "markdown",
      "source": [
        "# Import Data From Drive"
      ],
      "metadata": {
        "id": "959IAdIkk8lP"
      }
    },
    {
      "cell_type": "code",
      "source": [
        "df = pd.read_csv(\"/content/drive/MyDrive/Creditcard_data.csv\")\n",
        "\n",
        "print(\"Sample Data:\")\n",
        "print(df.head())\n"
      ],
      "metadata": {
        "colab": {
          "base_uri": "https://localhost:8080/"
        },
        "id": "5z2XENiKhSVA",
        "outputId": "375a23c9-260a-441d-bf02-0424cb029545"
      },
      "execution_count": 35,
      "outputs": [
        {
          "output_type": "stream",
          "name": "stdout",
          "text": [
            "Sample Data:\n",
            "   Time        V1        V2        V3        V4        V5        V6        V7  \\\n",
            "0     0 -1.359807 -0.072781  2.536347  1.378155 -0.338321  0.462388  0.239599   \n",
            "1     0  1.191857  0.266151  0.166480  0.448154  0.060018 -0.082361 -0.078803   \n",
            "2     1 -1.358354 -1.340163  1.773209  0.379780 -0.503198  1.800499  0.791461   \n",
            "3     1 -0.966272 -0.185226  1.792993 -0.863291 -0.010309  1.247203  0.237609   \n",
            "4     2 -1.158233  0.877737  1.548718  0.403034 -0.407193  0.095921  0.592941   \n",
            "\n",
            "         V8        V9  ...       V21       V22       V23       V24       V25  \\\n",
            "0  0.098698  0.363787  ... -0.018307  0.277838 -0.110474  0.066928  0.128539   \n",
            "1  0.085102 -0.255425  ... -0.225775 -0.638672  0.101288 -0.339846  0.167170   \n",
            "2  0.247676 -1.514654  ...  0.247998  0.771679  0.909412 -0.689281 -0.327642   \n",
            "3  0.377436 -1.387024  ... -0.108300  0.005274 -0.190321 -1.175575  0.647376   \n",
            "4 -0.270533  0.817739  ... -0.009431  0.798278 -0.137458  0.141267 -0.206010   \n",
            "\n",
            "        V26       V27       V28  Amount  Class  \n",
            "0 -0.189115  0.133558 -0.021053  149.62      0  \n",
            "1  0.125895 -0.008983  0.014724    2.69      1  \n",
            "2 -0.139097 -0.055353 -0.059752  378.66      0  \n",
            "3 -0.221929  0.062723  0.061458  123.50      0  \n",
            "4  0.502292  0.219422  0.215153   69.99      0  \n",
            "\n",
            "[5 rows x 31 columns]\n"
          ]
        }
      ]
    },
    {
      "cell_type": "markdown",
      "source": [
        "# View Statistics of Data"
      ],
      "metadata": {
        "id": "WR6ORNY_lB6c"
      }
    },
    {
      "cell_type": "code",
      "source": [
        "# Check basic statistics\n",
        "print(\"\\nDescriptive Statistics:\")\n",
        "print(df.describe())\n"
      ],
      "metadata": {
        "colab": {
          "base_uri": "https://localhost:8080/"
        },
        "id": "3fHR8AuhisSM",
        "outputId": "2aa860bd-bb28-4e92-c3dd-e1101f8134a0"
      },
      "execution_count": 36,
      "outputs": [
        {
          "output_type": "stream",
          "name": "stdout",
          "text": [
            "\n",
            "Descriptive Statistics:\n",
            "             Time          V1          V2          V3          V4          V5  \\\n",
            "count  772.000000  772.000000  772.000000  772.000000  772.000000  772.000000   \n",
            "mean   283.005181   -0.176963    0.217169    0.875172    0.285628   -0.005029   \n",
            "std    171.834196    1.294724    1.173401    1.031878    1.258758    1.098143   \n",
            "min      0.000000   -6.093248  -12.114213   -5.694973   -4.657545   -6.631951   \n",
            "25%    126.500000   -0.896416   -0.174684    0.308677   -0.460058   -0.534567   \n",
            "50%    282.000000   -0.382618    0.285843    0.905435    0.395919   -0.116612   \n",
            "75%    432.000000    1.110739    0.885745    1.532969    1.117559    0.452818   \n",
            "max    581.000000    1.586093    5.267376    3.772857    4.075817    7.672544   \n",
            "\n",
            "               V6          V7          V8          V9  ...         V21  \\\n",
            "count  772.000000  772.000000  772.000000  772.000000  ...  772.000000   \n",
            "mean     0.159081    0.123329   -0.057547   -0.030384  ...    0.004888   \n",
            "std      1.225682    0.852075    0.830144    0.878183  ...    0.609335   \n",
            "min     -3.498447   -4.925568   -7.494658   -2.770089  ...   -4.134608   \n",
            "25%     -0.630717   -0.296289   -0.167880   -0.517068  ...   -0.213746   \n",
            "50%     -0.109581    0.116329    0.034755   -0.082270  ...   -0.075802   \n",
            "75%      0.482972    0.575390    0.252395    0.412261  ...    0.095149   \n",
            "max      5.122103    4.808426    2.134599    5.459274  ...    5.273420   \n",
            "\n",
            "              V22         V23         V24         V25         V26         V27  \\\n",
            "count  772.000000  772.000000  772.000000  772.000000  772.000000  772.000000   \n",
            "mean    -0.096995   -0.040344   -0.002501    0.114337    0.022782    0.023353   \n",
            "std      0.607228    0.358724    0.621507    0.429667    0.484227    0.300934   \n",
            "min     -2.776923   -3.553381   -1.867208   -1.389079   -1.243924   -2.377933   \n",
            "25%     -0.525289   -0.176915   -0.379766   -0.166227   -0.313631   -0.047868   \n",
            "50%     -0.076551   -0.048353    0.091886    0.143723   -0.026414    0.023199   \n",
            "75%      0.307438    0.070085    0.426339    0.425798    0.260408    0.112199   \n",
            "max      1.574750    3.150413    1.215279    1.136720    3.087444    2.490503   \n",
            "\n",
            "              V28       Amount       Class  \n",
            "count  772.000000   772.000000  772.000000  \n",
            "mean    -0.017045    68.668290    0.011658  \n",
            "std      0.278332   197.838269    0.107411  \n",
            "min     -2.735623     0.000000    0.000000  \n",
            "25%     -0.033083     5.987500    0.000000  \n",
            "50%      0.021034    16.665000    0.000000  \n",
            "75%      0.087023    55.527500    0.000000  \n",
            "max      1.575380  3828.040000    1.000000  \n",
            "\n",
            "[8 rows x 31 columns]\n"
          ]
        }
      ]
    },
    {
      "cell_type": "markdown",
      "source": [
        "# Check Skewness And Kurtosis"
      ],
      "metadata": {
        "id": "Fh4eH8V0lHtx"
      }
    },
    {
      "cell_type": "code",
      "source": [
        "# Check skewness and kurtosis\n",
        "print(\"\\nSkewness:\")\n",
        "print(skew(df.drop(\"Class\", axis=1)))\n",
        "print(\"\\nKurtosis:\")\n",
        "print(kurtosis(df.drop(\"Class\", axis=1)))\n"
      ],
      "metadata": {
        "colab": {
          "base_uri": "https://localhost:8080/"
        },
        "id": "9x27J9uSivhg",
        "outputId": "fa545b3f-fa59-4bca-9c06-94d23478cf87"
      },
      "execution_count": 37,
      "outputs": [
        {
          "output_type": "stream",
          "name": "stdout",
          "text": [
            "\n",
            "Skewness:\n",
            "[ 5.23482863e-02 -9.44983557e-01 -2.39863514e+00 -8.24925664e-01\n",
            " -2.62134725e-01  6.14790558e-01  1.60440599e+00  3.55827642e-01\n",
            " -3.72420617e+00  1.03325568e+00  3.57626870e+00  1.80659023e-01\n",
            " -4.34617085e-01 -1.72785314e-01 -2.58190317e+00 -6.44980569e-01\n",
            " -6.09977444e-01  3.08680473e-02  9.91110959e-02  8.78078797e-03\n",
            "  4.45866528e+00  3.53501686e+00 -1.70593706e-01  8.37615662e-02\n",
            " -6.40715679e-01 -3.83996838e-01  1.10293323e+00  4.12122623e-01\n",
            " -3.22920653e+00  1.07037964e+01]\n",
            "\n",
            "Kurtosis:\n",
            "[-1.25831964e+00  1.62101966e+00  1.96011303e+01  3.06376356e+00\n",
            "  8.43077901e-01  6.97399262e+00  2.88089460e+00  5.83843296e+00\n",
            "  2.14021666e+01  5.58108913e+00  2.54716916e+01 -5.75033726e-01\n",
            "  8.73625678e-01 -3.22426201e-01  1.10784624e+01  6.27667704e-01\n",
            "  7.69238529e-01  7.99451411e+00  1.18610902e+00  8.09283751e-01\n",
            "  4.80113624e+01  2.90864815e+01  5.28430089e-01  2.98372863e+01\n",
            "  7.22479994e-02  2.32598096e-01  3.62139957e+00  1.94044003e+01\n",
            "  3.00402678e+01  1.74647813e+02]\n"
          ]
        }
      ]
    },
    {
      "cell_type": "markdown",
      "source": [
        "# Perform Autocorrelation And Normality Tests"
      ],
      "metadata": {
        "id": "hN4e1cZglNZ5"
      }
    },
    {
      "cell_type": "code",
      "source": [
        "# Check normality using Shapiro-Wilk test\n",
        "normality_test_result = df.apply(lambda col: shapiro(col)[1])\n",
        "print(\"\\nNormality Test (Shapiro-Wilk):\")\n",
        "print(normality_test_result)\n",
        "\n",
        "# Check Anderson-Darling test for normality\n",
        "anderson_test_result = df.apply(lambda col: anderson(col)[0])\n",
        "print(\"\\nAnderson-Darling Test:\")\n",
        "print(anderson_test_result)\n",
        "\n",
        "# Check autocorrelation using Durbin-Watson statistic\n",
        "autocorrelation_test_result = durbin_watson(df.drop(\"Class\", axis=1))\n",
        "print(\"\\nAutocorrelation Test (Durbin-Watson):\")\n",
        "print(autocorrelation_test_result)"
      ],
      "metadata": {
        "colab": {
          "base_uri": "https://localhost:8080/"
        },
        "id": "1co7HCKFiyMY",
        "outputId": "2a746f20-2688-409a-c7dd-c15abf2bef1a"
      },
      "execution_count": 38,
      "outputs": [
        {
          "output_type": "stream",
          "name": "stdout",
          "text": [
            "\n",
            "Normality Test (Shapiro-Wilk):\n",
            "Time      3.756757e-16\n",
            "V1        7.454592e-23\n",
            "V2        1.632101e-27\n",
            "V3        7.341871e-13\n",
            "V4        3.202947e-07\n",
            "V5        2.126740e-20\n",
            "V6        2.681251e-26\n",
            "V7        1.599252e-19\n",
            "V8        1.089943e-36\n",
            "V9        5.069781e-18\n",
            "V10       5.598535e-33\n",
            "V11       7.592160e-07\n",
            "V12       8.627810e-06\n",
            "V13       1.068262e-02\n",
            "V14       6.960593e-30\n",
            "V15       4.993966e-10\n",
            "V16       3.445795e-09\n",
            "V17       2.222775e-21\n",
            "V18       3.896223e-08\n",
            "V19       7.987574e-04\n",
            "V20       7.614312e-37\n",
            "V21       8.532073e-39\n",
            "V22       4.874197e-03\n",
            "V23       3.651649e-34\n",
            "V24       4.054394e-13\n",
            "V25       1.311673e-05\n",
            "V26       4.076913e-17\n",
            "V27       3.194741e-31\n",
            "V28       1.369261e-36\n",
            "Amount    0.000000e+00\n",
            "Class     0.000000e+00\n",
            "dtype: float64\n",
            "\n",
            "Anderson-Darling Test:\n",
            "Time       10.785138\n",
            "V1         22.994836\n",
            "V2         20.582436\n",
            "V3          3.291596\n",
            "V4          3.847354\n",
            "V5         13.555996\n",
            "V6         34.418135\n",
            "V7         10.066882\n",
            "V8         67.818386\n",
            "V9          7.855015\n",
            "V10        35.428905\n",
            "V11         4.195455\n",
            "V12         0.947946\n",
            "V13         0.704958\n",
            "V14        32.291746\n",
            "V15         4.652330\n",
            "V16         3.721261\n",
            "V17        11.802844\n",
            "V18         3.809702\n",
            "V19         1.349915\n",
            "V20        62.006790\n",
            "V21        78.900281\n",
            "V22         0.481463\n",
            "V23        40.806105\n",
            "V24         8.653028\n",
            "V25         1.300115\n",
            "V26        10.134767\n",
            "V27        42.345732\n",
            "V28        70.041024\n",
            "Amount    158.717110\n",
            "Class     294.694549\n",
            "dtype: float64\n",
            "\n",
            "Autocorrelation Test (Durbin-Watson):\n",
            "[1.25655641e-05 1.99092797e+00 1.88730966e+00 1.20184321e+00\n",
            " 1.90249008e+00 1.97853646e+00 2.04547026e+00 1.99275469e+00\n",
            " 1.97206323e+00 1.99602793e+00 2.05149817e+00 1.88521093e+00\n",
            " 1.77079248e+00 1.91048096e+00 1.85502131e+00 1.87461107e+00\n",
            " 1.85797236e+00 2.04247169e+00 1.93087425e+00 1.84210591e+00\n",
            " 2.03216522e+00 1.84914616e+00 1.83277965e+00 1.97464241e+00\n",
            " 1.95855417e+00 1.96316079e+00 2.00239857e+00 2.00939878e+00\n",
            " 1.96459615e+00 1.76509449e+00]\n"
          ]
        }
      ]
    },
    {
      "cell_type": "markdown",
      "source": [
        "# Determine if data is balanced or imbalanced"
      ],
      "metadata": {
        "id": "Qz9F0l5llTCt"
      }
    },
    {
      "cell_type": "code",
      "source": [
        "# Split data into features (X) and target variable (y)\n",
        "X = df.drop(\"Class\", axis=1)\n",
        "y = df[\"Class\"]\n",
        "\n",
        "# Check class distribution\n",
        "class_distribution = y.value_counts()\n",
        "print(\"\\nClass Distribution:\")\n",
        "print(class_distribution)\n",
        "\n",
        "# Determine if the data is balanced or imbalanced\n",
        "is_imbalanced = class_distribution[1] / class_distribution.sum() > 0.001  # Adjust threshold as needed\n",
        "print(\"\\nIs the Data Imbalanced?\")\n",
        "print(\"Yes\" if is_imbalanced else \"No\")"
      ],
      "metadata": {
        "colab": {
          "base_uri": "https://localhost:8080/"
        },
        "id": "DnrDe_Kui2nh",
        "outputId": "dd1b2a85-1a49-4f76-8695-58b7b7c227dc"
      },
      "execution_count": 39,
      "outputs": [
        {
          "output_type": "stream",
          "name": "stdout",
          "text": [
            "\n",
            "Class Distribution:\n",
            "0    763\n",
            "1      9\n",
            "Name: Class, dtype: int64\n",
            "\n",
            "Is the Data Imbalanced?\n",
            "Yes\n"
          ]
        }
      ]
    },
    {
      "cell_type": "markdown",
      "source": [
        "# Plot Class Distribution And Histograms"
      ],
      "metadata": {
        "id": "HzHafL-olZS6"
      }
    },
    {
      "cell_type": "code",
      "source": [
        "plt.figure(figsize=(16, 10))\n",
        "plt.title('Histograms of Features', fontsize=16)\n",
        "sns.histplot(data=df.drop(\"Class\", axis=1), bins=20, kde=True, color='skyblue')\n",
        "plt.show()\n",
        "\n",
        "plt.figure(figsize=(12, 8))\n",
        "df.drop(\"Class\", axis=1).hist(bins=20, color='blue', alpha=0.5)\n",
        "plt.suptitle('Histograms of Features')\n",
        "plt.show()\n",
        "\n",
        "plt.figure(figsize=(8, 6))\n",
        "sns.countplot(x='Class', data=df, palette='viridis')\n",
        "plt.title('Class Distribution', fontsize=16)\n",
        "plt.show()"
      ],
      "metadata": {
        "colab": {
          "base_uri": "https://localhost:8080/",
          "height": 1000
        },
        "id": "poLfgPzoi8hq",
        "outputId": "b4fc3a6c-2925-4887-e660-ede8d585fd22"
      },
      "execution_count": 40,
      "outputs": [
        {
          "output_type": "display_data",
          "data": {
            "text/plain": [
              "<Figure size 1600x1000 with 1 Axes>"
            ],
            "image/png": "[encoded data removed]"
          },
          "metadata": {}
        },
        {
          "output_type": "display_data",
          "data": {
            "text/plain": [
              "<Figure size 1200x800 with 0 Axes>"
            ]
          },
          "metadata": {}
        },
        {
          "output_type": "display_data",
          "data": {
            "text/plain": [
              "<Figure size 640x480 with 30 Axes>"
            ],
            "image/png": "[encoded data removed]"
          },
          "metadata": {}
        },
        {
          "output_type": "stream",
          "name": "stderr",
          "text": [
            "<ipython-input-40-87a92f7b1655>:12: FutureWarning: \n",
            "\n",
            "Passing `palette` without assigning `hue` is deprecated and will be removed in v0.14.0. Assign the `x` variable to `hue` and set `legend=False` for the same effect.\n",
            "\n",
            "  sns.countplot(x='Class', data=df, palette='viridis')\n"
          ]
        },
        {
          "output_type": "display_data",
          "data": {
            "text/plain": [
              "<Figure size 800x600 with 1 Axes>"
            ],
            "image/png": "[encoded data removed]"
          },
          "metadata": {}
        }
      ]
    },
    {
      "cell_type": "markdown",
      "source": [
        "# Perform Over Sampling"
      ],
      "metadata": {
        "id": "6XCJnk-TlhgE"
      }
    },
    {
      "cell_type": "code",
      "source": [
        "X_train, X_test, y_train, y_test = train_test_split(X, y, test_size=0.2, random_state=42)\n",
        "\n",
        "random_oversampler = RandomOverSampler(random_state=42)\n",
        "X_train_resampled, y_train_resampled = random_oversampler.fit_resample(X_train, y_train)\n",
        "\n",
        "print(\"Class Distribution After Random Oversampling:\")\n",
        "print(pd.Series(y_train_resampled).value_counts())\n"
      ],
      "metadata": {
        "colab": {
          "base_uri": "https://localhost:8080/"
        },
        "id": "btxKYuQMkDCG",
        "outputId": "af66937b-fd06-4877-947b-cbaa3064ceec"
      },
      "execution_count": 41,
      "outputs": [
        {
          "output_type": "stream",
          "name": "stdout",
          "text": [
            "Class Distribution After Random Oversampling:\n",
            "0    609\n",
            "1    609\n",
            "Name: Class, dtype: int64\n"
          ]
        }
      ]
    },
    {
      "cell_type": "markdown",
      "source": [
        "# Create 5 different samples using different techniques"
      ],
      "metadata": {
        "id": "xqyEvFNHll0k"
      }
    },
    {
      "cell_type": "code",
      "source": [
        "random_seed = 42\n",
        "\n",
        "# Define the sample size\n",
        "sample_size = 0.2  # Adjust as needed\n",
        "\n",
        "srs_df = df.sample(frac=sample_size, random_state=random_seed)\n",
        "print(\"Simple Random Sampling:\")\n",
        "print(srs_df.head())\n",
        "\n",
        "# Technique 2: Stratified Sampling\n",
        "stratified_split = StratifiedShuffleSplit(n_splits=1, test_size=sample_size, random_state=random_seed)\n",
        "for _, srs_index in stratified_split.split(df, df['Class']):\n",
        "    stratified_df = df.loc[srs_index]\n",
        "print(\"\\nStratified Sampling:\")\n",
        "print(stratified_df.head())\n",
        "\n",
        "# Technique 3: Random Sampling using train_test_split\n",
        "random_train_df, _ = train_test_split(df, test_size=sample_size, random_state=random_seed)\n",
        "print(\"\\nRandom Sampling (train_test_split):\")\n",
        "print(random_train_df.head())\n",
        "\n",
        "# Technique 4: Random Sampling using ShuffleSplit\n",
        "shuffle_split = ShuffleSplit(n_splits=1, test_size=sample_size, random_state=random_seed)\n",
        "for _, srs_index in shuffle_split.split(df):\n",
        "    shuffle_df = df.loc[srs_index]\n",
        "print(\"\\nRandom Sampling (ShuffleSplit):\")\n",
        "print(shuffle_df.head())\n",
        "\n",
        "# Technique 5: Simple Random Sampling without Replacement\n",
        "srs_no_replace_df = df.sample(frac=sample_size, replace=False, random_state=random_seed)\n",
        "print(\"\\nSimple Random Sampling (No Replacement):\")\n",
        "print(srs_no_replace_df.head())\n",
        "\n",
        "# Display the sample sizes\n",
        "print(\"Sample Sizes:\")\n",
        "print(\"Simple Random Sampling:\", len(srs_df))\n",
        "print(\"Stratified Sampling:\", len(stratified_df))\n",
        "print(\"Random Sampling (train_test_split):\", len(random_train_df))\n",
        "print(\"Random Sampling (ShuffleSplit):\", len(shuffle_df))\n",
        "print(\"Simple Random Sampling (No Replacement):\", len(srs_no_replace_df))\n"
      ],
      "metadata": {
        "colab": {
          "base_uri": "https://localhost:8080/"
        },
        "id": "8PFiWOc0lhFm",
        "outputId": "dc98ab0d-3159-44f6-ea74-1e2fc06c1bc6"
      },
      "execution_count": 42,
      "outputs": [
        {
          "output_type": "stream",
          "name": "stdout",
          "text": [
            "Simple Random Sampling:\n",
            "     Time        V1        V2        V3        V4        V5        V6  \\\n",
            "538   404  0.638806  1.772451 -1.748258  1.297700  1.785872 -1.050197   \n",
            "213   140  1.007947 -1.289492  0.666741 -0.741321 -1.290523  0.302172   \n",
            "361   265  0.073631  1.051207 -0.281223  0.853749  1.065966  1.219197   \n",
            "417   302 -0.986171  1.732934  0.857587  0.178950 -0.794223 -0.088469   \n",
            "582   434 -0.679293  1.120837  1.319394  1.249827  1.147786 -0.086534   \n",
            "\n",
            "           V7        V8        V9  ...       V21       V22       V23  \\\n",
            "538  1.485730 -0.780631  0.416991  ... -0.359613 -0.061540 -0.051428   \n",
            "213 -1.026907  0.220562 -0.607465  ...  0.530549  1.113561 -0.260042   \n",
            "361 -1.225597 -2.262214 -0.584441  ... -1.150128  0.870673 -0.266733   \n",
            "417 -1.266790 -4.922224  0.010309  ...  4.332858 -2.331390  0.568103   \n",
            "582  1.001436 -0.039752 -1.374497  ...  0.067521  0.030112 -0.296954   \n",
            "\n",
            "          V24       V25       V26       V27       V28  Amount  Class  \n",
            "538 -0.764738 -0.424181 -0.418629 -0.003258 -0.541237    0.99      0  \n",
            "213 -0.253242  0.299379 -0.032755  0.017927  0.035667  169.00      0  \n",
            "361 -1.048732  0.232705 -0.262463  0.187976  0.231428    1.00      0  \n",
            "417  0.638796  0.867788  0.181051  0.225638  0.179027    9.99      0  \n",
            "582 -0.619850  0.282799 -0.059404  0.048695  0.109200   25.03      0  \n",
            "\n",
            "[5 rows x 31 columns]\n",
            "\n",
            "Stratified Sampling:\n",
            "     Time        V1        V2        V3        V4        V5        V6  \\\n",
            "567   425 -0.367058  1.035851  1.108064 -0.065459  0.366306 -0.322658   \n",
            "41     32 -2.008872  2.198527  0.144242  1.159432 -0.815174  0.182288   \n",
            "350   259  1.095067 -0.014393  1.408552  1.266546 -0.944751  0.029578   \n",
            "191   125  0.853908 -0.527164  0.823846  1.235224 -0.642370  0.528598   \n",
            "724   548 -1.233426 -0.212441  1.839632 -1.802986 -0.493195  0.350424   \n",
            "\n",
            "           V7        V8        V9  ...       V21       V22       V23  \\\n",
            "567  0.596340  0.109672 -0.318671  ... -0.262881 -0.671307 -0.022587   \n",
            "41  -0.617108  1.530817 -0.586832  ...  0.094917  0.294983  0.011081   \n",
            "350 -0.598515  0.175291  0.485231  ...  0.013107  0.248009 -0.002564   \n",
            "191 -0.397823  0.156764  0.705793  ...  0.222966  0.526012 -0.271286   \n",
            "724 -0.905316  0.844863 -1.523517  ...  0.668410  1.574750 -0.176482   \n",
            "\n",
            "          V24       V25       V26       V27       V28  Amount  Class  \n",
            "567 -0.347485 -0.197110  0.125083  0.258796  0.090689    3.59      0  \n",
            "41   0.015249  0.034211 -0.236141  0.128291  0.117986    2.35      0  \n",
            "350  0.570100  0.387137 -0.442319  0.074531  0.032215    9.99      0  \n",
            "191 -0.384842  0.466662 -0.216340  0.058693  0.056363  165.55      0  \n",
            "724 -0.221561 -0.058504 -0.163971  0.014670 -0.033210   24.99      0  \n",
            "\n",
            "[5 rows x 31 columns]\n",
            "\n",
            "Random Sampling (train_test_split):\n",
            "     Time        V1        V2        V3        V4        V5        V6  \\\n",
            "352   259 -0.363608  1.104008  1.300678  0.070314  0.075180 -1.010396   \n",
            "60     41  0.986063 -0.202965 -0.492768  0.407691  0.305660 -0.230529   \n",
            "558   417 -0.473731  0.697340  2.279600  1.359875  0.342429  1.392886   \n",
            "350   259  1.095067 -0.014393  1.408552  1.266546 -0.944751  0.029578   \n",
            "696   525 -0.755011 -0.517761  1.760091 -0.654206 -0.039143 -0.492847   \n",
            "\n",
            "           V7        V8        V9  ...       V21       V22       V23  \\\n",
            "352  0.683396 -0.073378 -0.401866  ... -0.261158 -0.685436 -0.013662   \n",
            "60   0.585028 -0.208225 -0.247503  ... -0.305874 -1.216555 -0.077602   \n",
            "558  0.289971  0.170677  0.578966  ... -0.462425 -0.486810 -0.235667   \n",
            "350 -0.598515  0.175291  0.485231  ...  0.013107  0.248009 -0.002564   \n",
            "696 -0.047345  0.118936  0.734444  ... -0.049608 -0.200904  0.268931   \n",
            "\n",
            "          V24       V25       V26       V27       V28  Amount  Class  \n",
            "352  0.336313 -0.157577  0.071699  0.245539  0.099037    0.99      0  \n",
            "60  -0.741341  0.286881  0.200347 -0.075203  0.027271  169.05      0  \n",
            "558 -0.726568  0.085981 -0.351095  0.289067 -0.043030    8.61      0  \n",
            "350  0.570100  0.387137 -0.442319  0.074531  0.032215    9.99      0  \n",
            "696  0.108087 -0.468660  0.729549 -0.017462  0.077163   79.54      0  \n",
            "\n",
            "[5 rows x 31 columns]\n",
            "\n",
            "Random Sampling (ShuffleSplit):\n",
            "     Time        V1        V2        V3        V4        V5        V6  \\\n",
            "538   404  0.638806  1.772451 -1.748258  1.297700  1.785872 -1.050197   \n",
            "213   140  1.007947 -1.289492  0.666741 -0.741321 -1.290523  0.302172   \n",
            "361   265  0.073631  1.051207 -0.281223  0.853749  1.065966  1.219197   \n",
            "417   302 -0.986171  1.732934  0.857587  0.178950 -0.794223 -0.088469   \n",
            "582   434 -0.679293  1.120837  1.319394  1.249827  1.147786 -0.086534   \n",
            "\n",
            "           V7        V8        V9  ...       V21       V22       V23  \\\n",
            "538  1.485730 -0.780631  0.416991  ... -0.359613 -0.061540 -0.051428   \n",
            "213 -1.026907  0.220562 -0.607465  ...  0.530549  1.113561 -0.260042   \n",
            "361 -1.225597 -2.262214 -0.584441  ... -1.150128  0.870673 -0.266733   \n",
            "417 -1.266790 -4.922224  0.010309  ...  4.332858 -2.331390  0.568103   \n",
            "582  1.001436 -0.039752 -1.374497  ...  0.067521  0.030112 -0.296954   \n",
            "\n",
            "          V24       V25       V26       V27       V28  Amount  Class  \n",
            "538 -0.764738 -0.424181 -0.418629 -0.003258 -0.541237    0.99      0  \n",
            "213 -0.253242  0.299379 -0.032755  0.017927  0.035667  169.00      0  \n",
            "361 -1.048732  0.232705 -0.262463  0.187976  0.231428    1.00      0  \n",
            "417  0.638796  0.867788  0.181051  0.225638  0.179027    9.99      0  \n",
            "582 -0.619850  0.282799 -0.059404  0.048695  0.109200   25.03      0  \n",
            "\n",
            "[5 rows x 31 columns]\n",
            "\n",
            "Simple Random Sampling (No Replacement):\n",
            "     Time        V1        V2        V3        V4        V5        V6  \\\n",
            "538   404  0.638806  1.772451 -1.748258  1.297700  1.785872 -1.050197   \n",
            "213   140  1.007947 -1.289492  0.666741 -0.741321 -1.290523  0.302172   \n",
            "361   265  0.073631  1.051207 -0.281223  0.853749  1.065966  1.219197   \n",
            "417   302 -0.986171  1.732934  0.857587  0.178950 -0.794223 -0.088469   \n",
            "582   434 -0.679293  1.120837  1.319394  1.249827  1.147786 -0.086534   \n",
            "\n",
            "           V7        V8        V9  ...       V21       V22       V23  \\\n",
            "538  1.485730 -0.780631  0.416991  ... -0.359613 -0.061540 -0.051428   \n",
            "213 -1.026907  0.220562 -0.607465  ...  0.530549  1.113561 -0.260042   \n",
            "361 -1.225597 -2.262214 -0.584441  ... -1.150128  0.870673 -0.266733   \n",
            "417 -1.266790 -4.922224  0.010309  ...  4.332858 -2.331390  0.568103   \n",
            "582  1.001436 -0.039752 -1.374497  ...  0.067521  0.030112 -0.296954   \n",
            "\n",
            "          V24       V25       V26       V27       V28  Amount  Class  \n",
            "538 -0.764738 -0.424181 -0.418629 -0.003258 -0.541237    0.99      0  \n",
            "213 -0.253242  0.299379 -0.032755  0.017927  0.035667  169.00      0  \n",
            "361 -1.048732  0.232705 -0.262463  0.187976  0.231428    1.00      0  \n",
            "417  0.638796  0.867788  0.181051  0.225638  0.179027    9.99      0  \n",
            "582 -0.619850  0.282799 -0.059404  0.048695  0.109200   25.03      0  \n",
            "\n",
            "[5 rows x 31 columns]\n",
            "Sample Sizes:\n",
            "Simple Random Sampling: 154\n",
            "Stratified Sampling: 155\n",
            "Random Sampling (train_test_split): 617\n",
            "Random Sampling (ShuffleSplit): 155\n",
            "Simple Random Sampling (No Replacement): 154\n"
          ]
        }
      ]
    },
    {
      "cell_type": "markdown",
      "source": [
        "# Evaluate Performances of various models on each sample"
      ],
      "metadata": {
        "id": "cQ0tnmXClsBq"
      }
    },
    {
      "cell_type": "code",
      "source": [
        "models = [\n",
        "    RandomForestClassifier(random_state=random_seed),\n",
        "    LogisticRegression(random_state=random_seed),\n",
        "    SVC(random_state=random_seed),\n",
        "    KNeighborsClassifier(),\n",
        "    DecisionTreeClassifier(random_state=random_seed)\n",
        "]\n",
        "\n",
        "confusion_matrices = {}\n",
        "\n",
        "# Iterate through each sampling technique\n",
        "for i, (sample_df, sample_name) in enumerate(zip([srs_df, stratified_df, random_train_df, shuffle_df, srs_no_replace_df],\n",
        "                                                [\"Simple Random Sampling\", \"Stratified Sampling\", \"Random Sampling (train_test_split)\",\n",
        "                                                 \"Random Sampling (ShuffleSplit)\", \"Simple Random Sampling (No Replacement)\"])):\n",
        "    # Split the sample into features (X) and target variable (y)\n",
        "    X_sample = sample_df.drop(\"Class\", axis=1)\n",
        "    y_sample = sample_df[\"Class\"]\n",
        "\n",
        "    # Binarize the target variable for multi-class classification models\n",
        "    if len(y_sample.unique()) > 2:\n",
        "        y_sample = label_binarize(y_sample, classes=[0, 1])\n",
        "\n",
        "    # Split the sample into training and testing sets\n",
        "    X_train_sample, X_test_sample, y_train_sample, y_test_sample = train_test_split(X_sample, y_sample,\n",
        "                                                                                    test_size=0.2, random_state=random_seed)\n",
        "\n",
        "    # Dictionary to store confusion matrix for each model\n",
        "    model_conf_matrices = {}\n",
        "\n",
        "    # Iterate through each machine learning model\n",
        "    for j, model in enumerate(models):\n",
        "        # Train the model\n",
        "        model.fit(X_train_sample, y_train_sample)\n",
        "\n",
        "        # Make predictions on the test set\n",
        "        y_pred_sample = model.predict(X_test_sample)\n",
        "\n",
        "        # Calculate confusion matrix\n",
        "        conf_matrix = confusion_matrix(y_test_sample, y_pred_sample)\n",
        "        model_conf_matrices[f\"Model{j + 1}\"] = conf_matrix\n",
        "\n",
        "    confusion_matrices[sample_name] = model_conf_matrices\n",
        "\n",
        "# Display the confusion matrices\n",
        "for sample_name, model_conf_matrices in confusion_matrices.items():\n",
        "    print(f\"\\nConfusion Matrices for {sample_name}:\")\n",
        "    for model_name, conf_matrix in model_conf_matrices.items():\n",
        "        print(f\"{model_name}:\\n{conf_matrix}\")\n",
        "\n",
        "\n",
        "metrics_matrix = {}\n",
        "\n",
        "# Metrics to calculate\n",
        "metrics_list = ['Precision', 'Recall', 'Accuracy']\n",
        "\n",
        "# Iterate through each sampling technique\n",
        "for i, (sample_df, sample_name) in enumerate(zip([srs_df, stratified_df, random_train_df, shuffle_df, srs_no_replace_df],\n",
        "                                                [\"Simple Random Sampling\", \"Stratified Sampling\", \"Random Sampling (train_test_split)\",\n",
        "                                                 \"Random Sampling (ShuffleSplit)\", \"Simple Random Sampling (No Replacement)\"])):\n",
        "    # Split the sample into features (X) and target variable (y)\n",
        "    X_sample = sample_df.drop(\"Class\", axis=1)\n",
        "    y_sample = sample_df[\"Class\"]\n",
        "\n",
        "    # Binarize the target variable for multi-class classification models\n",
        "    if len(y_sample.unique()) > 2:\n",
        "        y_sample = label_binarize(y_sample, classes=[0, 1])\n",
        "\n",
        "    # Split the sample into training and testing sets\n",
        "    X_train_sample, X_test_sample, y_train_sample, y_test_sample = train_test_split(X_sample, y_sample,\n",
        "                                                                                    test_size=0.2, random_state=random_seed)\n",
        "\n",
        "    # Dictionary to store metrics for each model\n",
        "    model_metrics = {}\n",
        "\n",
        "    # Iterate through each machine learning model\n",
        "    for j, model in enumerate(models):\n",
        "        # Train the model\n",
        "        model.fit(X_train_sample, y_train_sample)\n",
        "\n",
        "        # Make predictions on the test set\n",
        "        y_pred_sample = model.predict(X_test_sample)\n",
        "\n",
        "        # Calculate metrics\n",
        "        precision = precision_score(y_test_sample, y_pred_sample, zero_division=1)\n",
        "        recall = recall_score(y_test_sample, y_pred_sample, zero_division=1)\n",
        "        accuracy = accuracy_score(y_test_sample, y_pred_sample)\n",
        "        # roc_auc = roc_auc_score(y_test_sample, model.predict_proba(X_test_sample)[:, 1])\n",
        "\n",
        "        model_metrics[f\"Model{j + 1}\"] = {'Precision': precision,\n",
        "                                           'Recall': recall,\n",
        "                                           'Accuracy': accuracy,\n",
        "                                          #  'ROC-AUC': roc_auc\n",
        "                                          }\n",
        "\n",
        "    metrics_matrix[sample_name] = model_metrics\n",
        "\n",
        "# Display the metrics matrix\n",
        "metrics_df = pd.DataFrame.from_dict({(i, j): metrics_matrix[i][j]\n",
        "                                     for i in metrics_matrix.keys()\n",
        "                                     for j in metrics_matrix[i].keys()},\n",
        "                                    orient='index')\n",
        "print(\"\\nMetrics Matrix:\")\n",
        "print(metrics_df)"
      ],
      "metadata": {
        "id": "12GhDlzDm0T9",
        "colab": {
          "base_uri": "https://localhost:8080/"
        },
        "outputId": "1db85bd2-676d-4930-f582-3c69de2a8359"
      },
      "execution_count": 43,
      "outputs": [
        {
          "output_type": "stream",
          "name": "stderr",
          "text": [
            "/usr/local/lib/python3.10/dist-packages/sklearn/linear_model/_logistic.py:458: ConvergenceWarning: lbfgs failed to converge (status=1):\n",
            "STOP: TOTAL NO. of ITERATIONS REACHED LIMIT.\n",
            "\n",
            "Increase the number of iterations (max_iter) or scale the data as shown in:\n",
            "    https://scikit-learn.org/stable/modules/preprocessing.html\n",
            "Please also refer to the documentation for alternative solver options:\n",
            "    https://scikit-learn.org/stable/modules/linear_model.html#logistic-regression\n",
            "  n_iter_i = _check_optimize_result(\n",
            "/usr/local/lib/python3.10/dist-packages/sklearn/linear_model/_logistic.py:458: ConvergenceWarning: lbfgs failed to converge (status=1):\n",
            "STOP: TOTAL NO. of ITERATIONS REACHED LIMIT.\n",
            "\n",
            "Increase the number of iterations (max_iter) or scale the data as shown in:\n",
            "    https://scikit-learn.org/stable/modules/preprocessing.html\n",
            "Please also refer to the documentation for alternative solver options:\n",
            "    https://scikit-learn.org/stable/modules/linear_model.html#logistic-regression\n",
            "  n_iter_i = _check_optimize_result(\n",
            "/usr/local/lib/python3.10/dist-packages/sklearn/linear_model/_logistic.py:458: ConvergenceWarning: lbfgs failed to converge (status=1):\n",
            "STOP: TOTAL NO. of ITERATIONS REACHED LIMIT.\n",
            "\n",
            "Increase the number of iterations (max_iter) or scale the data as shown in:\n",
            "    https://scikit-learn.org/stable/modules/preprocessing.html\n",
            "Please also refer to the documentation for alternative solver options:\n",
            "    https://scikit-learn.org/stable/modules/linear_model.html#logistic-regression\n",
            "  n_iter_i = _check_optimize_result(\n",
            "/usr/local/lib/python3.10/dist-packages/sklearn/linear_model/_logistic.py:458: ConvergenceWarning: lbfgs failed to converge (status=1):\n",
            "STOP: TOTAL NO. of ITERATIONS REACHED LIMIT.\n",
            "\n",
            "Increase the number of iterations (max_iter) or scale the data as shown in:\n",
            "    https://scikit-learn.org/stable/modules/preprocessing.html\n",
            "Please also refer to the documentation for alternative solver options:\n",
            "    https://scikit-learn.org/stable/modules/linear_model.html#logistic-regression\n",
            "  n_iter_i = _check_optimize_result(\n",
            "/usr/local/lib/python3.10/dist-packages/sklearn/linear_model/_logistic.py:458: ConvergenceWarning: lbfgs failed to converge (status=1):\n",
            "STOP: TOTAL NO. of ITERATIONS REACHED LIMIT.\n",
            "\n",
            "Increase the number of iterations (max_iter) or scale the data as shown in:\n",
            "    https://scikit-learn.org/stable/modules/preprocessing.html\n",
            "Please also refer to the documentation for alternative solver options:\n",
            "    https://scikit-learn.org/stable/modules/linear_model.html#logistic-regression\n",
            "  n_iter_i = _check_optimize_result(\n"
          ]
        },
        {
          "output_type": "stream",
          "name": "stdout",
          "text": [
            "\n",
            "Confusion Matrices for Simple Random Sampling:\n",
            "Model1:\n",
            "[[31]]\n",
            "Model2:\n",
            "[[31]]\n",
            "Model3:\n",
            "[[31]]\n",
            "Model4:\n",
            "[[31]]\n",
            "Model5:\n",
            "[[31]]\n",
            "\n",
            "Confusion Matrices for Stratified Sampling:\n",
            "Model1:\n",
            "[[31]]\n",
            "Model2:\n",
            "[[31]]\n",
            "Model3:\n",
            "[[31]]\n",
            "Model4:\n",
            "[[31]]\n",
            "Model5:\n",
            "[[31]]\n",
            "\n",
            "Confusion Matrices for Random Sampling (train_test_split):\n",
            "Model1:\n",
            "[[121   0]\n",
            " [  3   0]]\n",
            "Model2:\n",
            "[[121   0]\n",
            " [  3   0]]\n",
            "Model3:\n",
            "[[121   0]\n",
            " [  3   0]]\n",
            "Model4:\n",
            "[[121   0]\n",
            " [  3   0]]\n",
            "Model5:\n",
            "[[119   2]\n",
            " [  3   0]]\n",
            "\n",
            "Confusion Matrices for Random Sampling (ShuffleSplit):\n",
            "Model1:\n",
            "[[31]]\n",
            "Model2:\n",
            "[[31]]\n",
            "Model3:\n",
            "[[31]]\n",
            "Model4:\n",
            "[[31]]\n",
            "Model5:\n",
            "[[30  1]\n",
            " [ 0  0]]\n",
            "\n",
            "Confusion Matrices for Simple Random Sampling (No Replacement):\n",
            "Model1:\n",
            "[[31]]\n",
            "Model2:\n",
            "[[31]]\n",
            "Model3:\n",
            "[[31]]\n",
            "Model4:\n",
            "[[31]]\n",
            "Model5:\n",
            "[[31]]\n"
          ]
        },
        {
          "output_type": "stream",
          "name": "stderr",
          "text": [
            "/usr/local/lib/python3.10/dist-packages/sklearn/linear_model/_logistic.py:458: ConvergenceWarning: lbfgs failed to converge (status=1):\n",
            "STOP: TOTAL NO. of ITERATIONS REACHED LIMIT.\n",
            "\n",
            "Increase the number of iterations (max_iter) or scale the data as shown in:\n",
            "    https://scikit-learn.org/stable/modules/preprocessing.html\n",
            "Please also refer to the documentation for alternative solver options:\n",
            "    https://scikit-learn.org/stable/modules/linear_model.html#logistic-regression\n",
            "  n_iter_i = _check_optimize_result(\n",
            "/usr/local/lib/python3.10/dist-packages/sklearn/linear_model/_logistic.py:458: ConvergenceWarning: lbfgs failed to converge (status=1):\n",
            "STOP: TOTAL NO. of ITERATIONS REACHED LIMIT.\n",
            "\n",
            "Increase the number of iterations (max_iter) or scale the data as shown in:\n",
            "    https://scikit-learn.org/stable/modules/preprocessing.html\n",
            "Please also refer to the documentation for alternative solver options:\n",
            "    https://scikit-learn.org/stable/modules/linear_model.html#logistic-regression\n",
            "  n_iter_i = _check_optimize_result(\n",
            "/usr/local/lib/python3.10/dist-packages/sklearn/linear_model/_logistic.py:458: ConvergenceWarning: lbfgs failed to converge (status=1):\n",
            "STOP: TOTAL NO. of ITERATIONS REACHED LIMIT.\n",
            "\n",
            "Increase the number of iterations (max_iter) or scale the data as shown in:\n",
            "    https://scikit-learn.org/stable/modules/preprocessing.html\n",
            "Please also refer to the documentation for alternative solver options:\n",
            "    https://scikit-learn.org/stable/modules/linear_model.html#logistic-regression\n",
            "  n_iter_i = _check_optimize_result(\n",
            "/usr/local/lib/python3.10/dist-packages/sklearn/linear_model/_logistic.py:458: ConvergenceWarning: lbfgs failed to converge (status=1):\n",
            "STOP: TOTAL NO. of ITERATIONS REACHED LIMIT.\n",
            "\n",
            "Increase the number of iterations (max_iter) or scale the data as shown in:\n",
            "    https://scikit-learn.org/stable/modules/preprocessing.html\n",
            "Please also refer to the documentation for alternative solver options:\n",
            "    https://scikit-learn.org/stable/modules/linear_model.html#logistic-regression\n",
            "  n_iter_i = _check_optimize_result(\n"
          ]
        },
        {
          "output_type": "stream",
          "name": "stdout",
          "text": [
            "\n",
            "Metrics Matrix:\n",
            "                                                Precision  Recall  Accuracy\n",
            "Simple Random Sampling                  Model1        1.0     1.0  1.000000\n",
            "                                        Model2        1.0     1.0  1.000000\n",
            "                                        Model3        1.0     1.0  1.000000\n",
            "                                        Model4        1.0     1.0  1.000000\n",
            "                                        Model5        1.0     1.0  1.000000\n",
            "Stratified Sampling                     Model1        1.0     1.0  1.000000\n",
            "                                        Model2        1.0     1.0  1.000000\n",
            "                                        Model3        1.0     1.0  1.000000\n",
            "                                        Model4        1.0     1.0  1.000000\n",
            "                                        Model5        1.0     1.0  1.000000\n",
            "Random Sampling (train_test_split)      Model1        1.0     0.0  0.975806\n",
            "                                        Model2        1.0     0.0  0.975806\n",
            "                                        Model3        1.0     0.0  0.975806\n",
            "                                        Model4        1.0     0.0  0.975806\n",
            "                                        Model5        0.0     0.0  0.959677\n",
            "Random Sampling (ShuffleSplit)          Model1        1.0     1.0  1.000000\n",
            "                                        Model2        1.0     1.0  1.000000\n",
            "                                        Model3        1.0     1.0  1.000000\n",
            "                                        Model4        1.0     1.0  1.000000\n",
            "                                        Model5        0.0     1.0  0.967742\n",
            "Simple Random Sampling (No Replacement) Model1        1.0     1.0  1.000000\n",
            "                                        Model2        1.0     1.0  1.000000\n",
            "                                        Model3        1.0     1.0  1.000000\n",
            "                                        Model4        1.0     1.0  1.000000\n",
            "                                        Model5        1.0     1.0  1.000000\n"
          ]
        },
        {
          "output_type": "stream",
          "name": "stderr",
          "text": [
            "/usr/local/lib/python3.10/dist-packages/sklearn/linear_model/_logistic.py:458: ConvergenceWarning: lbfgs failed to converge (status=1):\n",
            "STOP: TOTAL NO. of ITERATIONS REACHED LIMIT.\n",
            "\n",
            "Increase the number of iterations (max_iter) or scale the data as shown in:\n",
            "    https://scikit-learn.org/stable/modules/preprocessing.html\n",
            "Please also refer to the documentation for alternative solver options:\n",
            "    https://scikit-learn.org/stable/modules/linear_model.html#logistic-regression\n",
            "  n_iter_i = _check_optimize_result(\n"
          ]
        }
      ]
    },
    {
      "cell_type": "markdown",
      "source": [
        "# Generate a Result matrix based on area under the precision-recall curve (AUC-PR).\n",
        "\n",
        "## AUC-PR is preferred for imbalanced datasets"
      ],
      "metadata": {
        "id": "tNLD_kBTl2bq"
      }
    },
    {
      "cell_type": "code",
      "source": [
        "from sklearn.metrics import precision_recall_curve, auc\n",
        "\n",
        "# Dictionary to store AUC-PR scores for each model\n",
        "auc_pr_scores = {}\n",
        "\n",
        "# Iterate through each sampling technique\n",
        "for i, (sample_df, sample_name) in enumerate(zip([srs_df, stratified_df, random_train_df, shuffle_df, srs_no_replace_df],\n",
        "                                                [\"Simple Random Sampling\", \"Stratified Sampling\", \"Random Sampling (train_test_split)\",\n",
        "                                                 \"Random Sampling (ShuffleSplit)\", \"Simple Random Sampling (No Replacement)\"])):\n",
        "    # Split the sample into features (X) and target variable (y)\n",
        "    X_sample = sample_df.drop(\"Class\", axis=1)\n",
        "    y_sample = sample_df[\"Class\"]\n",
        "\n",
        "    # Binarize the target variable for multi-class classification models\n",
        "    if len(y_sample.unique()) > 2:\n",
        "        y_sample = label_binarize(y_sample, classes=[0, 1])\n",
        "\n",
        "    # Split the sample into training and testing sets\n",
        "    X_train_sample, X_test_sample, y_train_sample, y_test_sample = train_test_split(X_sample, y_sample,\n",
        "                                                                                    test_size=0.2, random_state=random_seed)\n",
        "\n",
        "    # Dictionary to store AUC-PR score for each model\n",
        "    model_auc_pr_scores = {}\n",
        "\n",
        "    # Iterate through each machine learning model\n",
        "    for j, model in enumerate(models):\n",
        "        # Train the model\n",
        "        model.fit(X_train_sample, y_train_sample)\n",
        "\n",
        "        # Make predictions on the test set\n",
        "        if hasattr(model, \"predict_proba\"):\n",
        "            y_score_sample = model.predict_proba(X_test_sample)[:, 1]\n",
        "        else:\n",
        "            y_score_sample = model.decision_function(X_test_sample)\n",
        "\n",
        "        # Calculate precision-recall curve\n",
        "        precision, recall, _ = precision_recall_curve(y_test_sample, y_score_sample)\n",
        "\n",
        "        # Calculate AUC-PR\n",
        "        auc_pr = auc(recall, precision)\n",
        "        model_auc_pr_scores[f\"Model{j + 1}\"] = auc_pr\n",
        "\n",
        "    auc_pr_scores[sample_name] = model_auc_pr_scores\n",
        "\n",
        "# Display the AUC-PR scores\n",
        "for sample_name, model_auc_pr_scores in auc_pr_scores.items():\n",
        "    print(f\"\\nAUC-PR Scores for {sample_name}:\")\n",
        "    for model_name, auc_pr in model_auc_pr_scores.items():\n",
        "        print(f\"{model_name}: {auc_pr:.4f}\")\n",
        "\n",
        "auc_pr_df = pd.DataFrame(index=models)\n",
        "\n",
        "# Iterate through each sampling technique\n",
        "for sample_name, model_auc_pr_scores in auc_pr_scores.items():\n",
        "    # Extract AUC-PR scores for each model and round to 4 decimal places\n",
        "    auc_pr_values = [round(model_auc_pr_scores.get(f\"Model{i + 1}\", 0), 4) for i in range(len(models))]\n",
        "\n",
        "    # Add a new column for the current sampling technique\n",
        "    auc_pr_df[sample_name] = auc_pr_values\n",
        "\n",
        "# Save the DataFrame to a CSV file with floating-point values rounded to 4 decimal places\n",
        "auc_pr_df.to_csv('auc_pr_results.csv', float_format='%.4f')\n",
        "\n",
        "# Display the DataFrame\n",
        "print(auc_pr_df)"
      ],
      "metadata": {
        "colab": {
          "base_uri": "https://localhost:8080/"
        },
        "id": "6A3FdTsPioiT",
        "outputId": "03e60f82-ef38-4ca2-a5a8-467edb9f1747"
      },
      "execution_count": 44,
      "outputs": [
        {
          "output_type": "stream",
          "name": "stderr",
          "text": [
            "/usr/local/lib/python3.10/dist-packages/sklearn/metrics/_ranking.py:891: UserWarning: No positive class found in y_true, recall is set to one for all thresholds.\n",
            "  warnings.warn(\n",
            "/usr/local/lib/python3.10/dist-packages/sklearn/linear_model/_logistic.py:458: ConvergenceWarning: lbfgs failed to converge (status=1):\n",
            "STOP: TOTAL NO. of ITERATIONS REACHED LIMIT.\n",
            "\n",
            "Increase the number of iterations (max_iter) or scale the data as shown in:\n",
            "    https://scikit-learn.org/stable/modules/preprocessing.html\n",
            "Please also refer to the documentation for alternative solver options:\n",
            "    https://scikit-learn.org/stable/modules/linear_model.html#logistic-regression\n",
            "  n_iter_i = _check_optimize_result(\n",
            "/usr/local/lib/python3.10/dist-packages/sklearn/metrics/_ranking.py:891: UserWarning: No positive class found in y_true, recall is set to one for all thresholds.\n",
            "  warnings.warn(\n",
            "/usr/local/lib/python3.10/dist-packages/sklearn/metrics/_ranking.py:891: UserWarning: No positive class found in y_true, recall is set to one for all thresholds.\n",
            "  warnings.warn(\n",
            "/usr/local/lib/python3.10/dist-packages/sklearn/metrics/_ranking.py:891: UserWarning: No positive class found in y_true, recall is set to one for all thresholds.\n",
            "  warnings.warn(\n",
            "/usr/local/lib/python3.10/dist-packages/sklearn/metrics/_ranking.py:891: UserWarning: No positive class found in y_true, recall is set to one for all thresholds.\n",
            "  warnings.warn(\n",
            "/usr/local/lib/python3.10/dist-packages/sklearn/metrics/_ranking.py:891: UserWarning: No positive class found in y_true, recall is set to one for all thresholds.\n",
            "  warnings.warn(\n",
            "/usr/local/lib/python3.10/dist-packages/sklearn/linear_model/_logistic.py:458: ConvergenceWarning: lbfgs failed to converge (status=1):\n",
            "STOP: TOTAL NO. of ITERATIONS REACHED LIMIT.\n",
            "\n",
            "Increase the number of iterations (max_iter) or scale the data as shown in:\n",
            "    https://scikit-learn.org/stable/modules/preprocessing.html\n",
            "Please also refer to the documentation for alternative solver options:\n",
            "    https://scikit-learn.org/stable/modules/linear_model.html#logistic-regression\n",
            "  n_iter_i = _check_optimize_result(\n",
            "/usr/local/lib/python3.10/dist-packages/sklearn/metrics/_ranking.py:891: UserWarning: No positive class found in y_true, recall is set to one for all thresholds.\n",
            "  warnings.warn(\n",
            "/usr/local/lib/python3.10/dist-packages/sklearn/metrics/_ranking.py:891: UserWarning: No positive class found in y_true, recall is set to one for all thresholds.\n",
            "  warnings.warn(\n",
            "/usr/local/lib/python3.10/dist-packages/sklearn/metrics/_ranking.py:891: UserWarning: No positive class found in y_true, recall is set to one for all thresholds.\n",
            "  warnings.warn(\n",
            "/usr/local/lib/python3.10/dist-packages/sklearn/metrics/_ranking.py:891: UserWarning: No positive class found in y_true, recall is set to one for all thresholds.\n",
            "  warnings.warn(\n",
            "/usr/local/lib/python3.10/dist-packages/sklearn/linear_model/_logistic.py:458: ConvergenceWarning: lbfgs failed to converge (status=1):\n",
            "STOP: TOTAL NO. of ITERATIONS REACHED LIMIT.\n",
            "\n",
            "Increase the number of iterations (max_iter) or scale the data as shown in:\n",
            "    https://scikit-learn.org/stable/modules/preprocessing.html\n",
            "Please also refer to the documentation for alternative solver options:\n",
            "    https://scikit-learn.org/stable/modules/linear_model.html#logistic-regression\n",
            "  n_iter_i = _check_optimize_result(\n",
            "/usr/local/lib/python3.10/dist-packages/sklearn/metrics/_ranking.py:891: UserWarning: No positive class found in y_true, recall is set to one for all thresholds.\n",
            "  warnings.warn(\n",
            "/usr/local/lib/python3.10/dist-packages/sklearn/linear_model/_logistic.py:458: ConvergenceWarning: lbfgs failed to converge (status=1):\n",
            "STOP: TOTAL NO. of ITERATIONS REACHED LIMIT.\n",
            "\n",
            "Increase the number of iterations (max_iter) or scale the data as shown in:\n",
            "    https://scikit-learn.org/stable/modules/preprocessing.html\n",
            "Please also refer to the documentation for alternative solver options:\n",
            "    https://scikit-learn.org/stable/modules/linear_model.html#logistic-regression\n",
            "  n_iter_i = _check_optimize_result(\n",
            "/usr/local/lib/python3.10/dist-packages/sklearn/metrics/_ranking.py:891: UserWarning: No positive class found in y_true, recall is set to one for all thresholds.\n",
            "  warnings.warn(\n",
            "/usr/local/lib/python3.10/dist-packages/sklearn/metrics/_ranking.py:891: UserWarning: No positive class found in y_true, recall is set to one for all thresholds.\n",
            "  warnings.warn(\n",
            "/usr/local/lib/python3.10/dist-packages/sklearn/metrics/_ranking.py:891: UserWarning: No positive class found in y_true, recall is set to one for all thresholds.\n",
            "  warnings.warn(\n",
            "/usr/local/lib/python3.10/dist-packages/sklearn/metrics/_ranking.py:891: UserWarning: No positive class found in y_true, recall is set to one for all thresholds.\n",
            "  warnings.warn(\n"
          ]
        },
        {
          "output_type": "stream",
          "name": "stdout",
          "text": [
            "\n",
            "AUC-PR Scores for Simple Random Sampling:\n",
            "Model1: 0.5000\n",
            "Model2: 0.5000\n",
            "Model3: 0.5000\n",
            "Model4: 0.5000\n",
            "Model5: 0.5000\n",
            "\n",
            "AUC-PR Scores for Stratified Sampling:\n",
            "Model1: 0.5000\n",
            "Model2: 0.5000\n",
            "Model3: 0.5000\n",
            "Model4: 0.5000\n",
            "Model5: 0.5000\n",
            "\n",
            "AUC-PR Scores for Random Sampling (train_test_split):\n",
            "Model1: 0.0746\n",
            "Model2: 0.0382\n",
            "Model3: 0.0352\n",
            "Model4: 0.0121\n",
            "Model5: 0.0121\n",
            "\n",
            "AUC-PR Scores for Random Sampling (ShuffleSplit):\n",
            "Model1: 0.5000\n",
            "Model2: 0.5000\n",
            "Model3: 0.5000\n",
            "Model4: 0.5000\n",
            "Model5: 0.5000\n",
            "\n",
            "AUC-PR Scores for Simple Random Sampling (No Replacement):\n",
            "Model1: 0.5000\n",
            "Model2: 0.5000\n",
            "Model3: 0.5000\n",
            "Model4: 0.5000\n",
            "Model5: 0.5000\n",
            "                                                    Simple Random Sampling  \\\n",
            "(DecisionTreeClassifier(max_features='sqrt', ra...                     0.5   \n",
            "LogisticRegression(random_state=42)                                    0.5   \n",
            "SVC(random_state=42)                                                   0.5   \n",
            "KNeighborsClassifier()                                                 0.5   \n",
            "DecisionTreeClassifier(random_state=42)                                0.5   \n",
            "\n",
            "                                                    Stratified Sampling  \\\n",
            "(DecisionTreeClassifier(max_features='sqrt', ra...                  0.5   \n",
            "LogisticRegression(random_state=42)                                 0.5   \n",
            "SVC(random_state=42)                                                0.5   \n",
            "KNeighborsClassifier()                                              0.5   \n",
            "DecisionTreeClassifier(random_state=42)                             0.5   \n",
            "\n",
            "                                                    Random Sampling (train_test_split)  \\\n",
            "(DecisionTreeClassifier(max_features='sqrt', ra...                              0.0746   \n",
            "LogisticRegression(random_state=42)                                             0.0382   \n",
            "SVC(random_state=42)                                                            0.0352   \n",
            "KNeighborsClassifier()                                                          0.0121   \n",
            "DecisionTreeClassifier(random_state=42)                                         0.0121   \n",
            "\n",
            "                                                    Random Sampling (ShuffleSplit)  \\\n",
            "(DecisionTreeClassifier(max_features='sqrt', ra...                             0.5   \n",
            "LogisticRegression(random_state=42)                                            0.5   \n",
            "SVC(random_state=42)                                                           0.5   \n",
            "KNeighborsClassifier()                                                         0.5   \n",
            "DecisionTreeClassifier(random_state=42)                                        0.5   \n",
            "\n",
            "                                                    Simple Random Sampling (No Replacement)  \n",
            "(DecisionTreeClassifier(max_features='sqrt', ra...                                      0.5  \n",
            "LogisticRegression(random_state=42)                                                     0.5  \n",
            "SVC(random_state=42)                                                                    0.5  \n",
            "KNeighborsClassifier()                                                                  0.5  \n",
            "DecisionTreeClassifier(random_state=42)                                                 0.5  \n"
          ]
        },
        {
          "output_type": "stream",
          "name": "stderr",
          "text": [
            "/usr/local/lib/python3.10/dist-packages/sklearn/metrics/_ranking.py:891: UserWarning: No positive class found in y_true, recall is set to one for all thresholds.\n",
            "  warnings.warn(\n",
            "/usr/local/lib/python3.10/dist-packages/sklearn/linear_model/_logistic.py:458: ConvergenceWarning: lbfgs failed to converge (status=1):\n",
            "STOP: TOTAL NO. of ITERATIONS REACHED LIMIT.\n",
            "\n",
            "Increase the number of iterations (max_iter) or scale the data as shown in:\n",
            "    https://scikit-learn.org/stable/modules/preprocessing.html\n",
            "Please also refer to the documentation for alternative solver options:\n",
            "    https://scikit-learn.org/stable/modules/linear_model.html#logistic-regression\n",
            "  n_iter_i = _check_optimize_result(\n",
            "/usr/local/lib/python3.10/dist-packages/sklearn/metrics/_ranking.py:891: UserWarning: No positive class found in y_true, recall is set to one for all thresholds.\n",
            "  warnings.warn(\n",
            "/usr/local/lib/python3.10/dist-packages/sklearn/metrics/_ranking.py:891: UserWarning: No positive class found in y_true, recall is set to one for all thresholds.\n",
            "  warnings.warn(\n",
            "/usr/local/lib/python3.10/dist-packages/sklearn/metrics/_ranking.py:891: UserWarning: No positive class found in y_true, recall is set to one for all thresholds.\n",
            "  warnings.warn(\n",
            "/usr/local/lib/python3.10/dist-packages/sklearn/metrics/_ranking.py:891: UserWarning: No positive class found in y_true, recall is set to one for all thresholds.\n",
            "  warnings.warn(\n"
          ]
        }
      ]
    }
  ]
}